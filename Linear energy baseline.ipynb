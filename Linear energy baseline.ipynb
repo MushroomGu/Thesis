{
 "cells": [
  {
   "cell_type": "code",
   "execution_count": 1,
   "metadata": {},
   "outputs": [
    {
     "name": "stderr",
     "output_type": "stream",
     "text": [
      "2023-08-26 12:35:36.359096: I tensorflow/core/util/port.cc:110] oneDNN custom operations are on. You may see slightly different numerical results due to floating-point round-off errors from different computation orders. To turn them off, set the environment variable `TF_ENABLE_ONEDNN_OPTS=0`.\n",
      "2023-08-26 12:35:36.473646: I tensorflow/tsl/cuda/cudart_stub.cc:28] Could not find cuda drivers on your machine, GPU will not be used.\n",
      "2023-08-26 12:35:36.980837: I tensorflow/tsl/cuda/cudart_stub.cc:28] Could not find cuda drivers on your machine, GPU will not be used.\n",
      "2023-08-26 12:35:36.983965: I tensorflow/core/platform/cpu_feature_guard.cc:182] This TensorFlow binary is optimized to use available CPU instructions in performance-critical operations.\n",
      "To enable the following instructions: AVX2 AVX512F AVX512_VNNI FMA, in other operations, rebuild TensorFlow with the appropriate compiler flags.\n",
      "2023-08-26 12:35:38.410399: W tensorflow/compiler/tf2tensorrt/utils/py_utils.cc:38] TF-TRT Warning: Could not find TensorRT\n"
     ]
    }
   ],
   "source": [
    "import numpy as np\n",
    "import pandas as pd\n",
    "import matplotlib.pyplot as plt\n",
    "import seaborn as sns\n",
    "from keras.models import Sequential\n",
    "from keras.layers import LSTM, Dense\n",
    "from sklearn.preprocessing import MinMaxScaler\n",
    "from tensorflow.keras.models import Sequential\n",
    "from tensorflow.keras.layers import Dense, LSTM, RepeatVector, TimeDistributed\n",
    "from tensorflow.keras.callbacks import EarlyStopping"
   ]
  },
  {
   "cell_type": "code",
   "execution_count": 2,
   "metadata": {},
   "outputs": [],
   "source": [
    "prom_file_path = \"/home/wenjun/r10n9_continuous_data.parquet\""
   ]
  },
  {
   "cell_type": "code",
   "execution_count": 3,
   "metadata": {},
   "outputs": [],
   "source": [
    "data = pd.read_parquet(prom_file_path)"
   ]
  },
  {
   "cell_type": "code",
   "execution_count": 4,
   "metadata": {},
   "outputs": [
    {
     "name": "stdout",
     "output_type": "stream",
     "text": [
      "<class 'pandas.core.frame.DataFrame'>\n",
      "Index: 43196 entries, 118937550 to 126478703\n",
      "Data columns (total 69 columns):\n",
      " #   Column                                    Non-Null Count  Dtype         \n",
      "---  ------                                    --------------  -----         \n",
      " 0   id                                        43196 non-null  object        \n",
      " 1   timestamp                                 43196 non-null  datetime64[ns]\n",
      " 2   node                                      43196 non-null  object        \n",
      " 3   node_time_seconds                         43196 non-null  float64       \n",
      " 4   node_load15                               43196 non-null  float64       \n",
      " 5   surfsara_power_usage                      43196 non-null  float64       \n",
      " 6   up                                        43196 non-null  float64       \n",
      " 7   node_netstat_Tcp_OutSegs                  43196 non-null  float64       \n",
      " 8   node_netstat_Tcp_InErrs                   43196 non-null  float64       \n",
      " 9   node_context_switches_total               43196 non-null  float64       \n",
      " 10  node_load5                                43196 non-null  float64       \n",
      " 11  node_load1                                43196 non-null  float64       \n",
      " 12  node_memory_Active_bytes                  43196 non-null  float64       \n",
      " 13  node_netstat_Tcp_RetransSegs              43196 non-null  float64       \n",
      " 14  node_netstat_Udp_InErrors                 43196 non-null  float64       \n",
      " 15  node_memory_Dirty_bytes                   43196 non-null  float64       \n",
      " 16  surfsara_ambient_temp                     43196 non-null  float64       \n",
      " 17  node_netstat_Icmp_InMsgs                  43196 non-null  float64       \n",
      " 18  node_netstat_Udp_InDatagrams              43196 non-null  float64       \n",
      " 19  node_intr_total                           43196 non-null  float64       \n",
      " 20  node_netstat_Tcp_InSegs                   43196 non-null  float64       \n",
      " 21  node_memory_Percpu_bytes                  43196 non-null  float64       \n",
      " 22  node_boot_time_seconds                    43196 non-null  float64       \n",
      " 23  node_netstat_Udp_OutDatagrams             43196 non-null  float64       \n",
      " 24  node_netstat_Icmp_InErrors                43196 non-null  float64       \n",
      " 25  node_procs_blocked                        43196 non-null  float64       \n",
      " 26  node_netstat_Icmp_OutMsgs                 43196 non-null  float64       \n",
      " 27  node_memory_MemFree_bytes                 43196 non-null  float64       \n",
      " 28  node_procs_running                        43196 non-null  float64       \n",
      " 29  node_forks_total                          43196 non-null  float64       \n",
      " 30  node_hwmon_temp_celsius-min               43196 non-null  float64       \n",
      " 31  node_hwmon_temp_celsius-mean              43196 non-null  float64       \n",
      " 32  node_hwmon_temp_celsius-max               43196 non-null  float64       \n",
      " 33  node_filesystem_avail_bytes-sum           43196 non-null  float64       \n",
      " 34  node_filesystem_files-sum                 43196 non-null  float64       \n",
      " 35  node_network_transmit_bytes_total-sum     43196 non-null  float64       \n",
      " 36  node_filesystem_device_error-sum          43196 non-null  float64       \n",
      " 37  node_disk_written_bytes_total-sum         43196 non-null  float64       \n",
      " 38  node_filesystem_free_bytes-sum            43196 non-null  float64       \n",
      " 39  node_thermal_zone_temp-min                43196 non-null  float64       \n",
      " 40  node_thermal_zone_temp-mean               43196 non-null  float64       \n",
      " 41  node_thermal_zone_temp-max                43196 non-null  float64       \n",
      " 42  node_disk_read_bytes_total-sum            43196 non-null  float64       \n",
      " 43  nvidia_gpu_memory_used_bytes-sum          43196 non-null  float64       \n",
      " 44  nvidia_gpu_temperature_celsius-min        0 non-null      float64       \n",
      " 45  nvidia_gpu_temperature_celsius-mean       0 non-null      float64       \n",
      " 46  nvidia_gpu_temperature_celsius-max        0 non-null      float64       \n",
      " 47  node_arp_entries-sum                      43196 non-null  float64       \n",
      " 48  nvidia_gpu_fanspeed_percent-min           0 non-null      float64       \n",
      " 49  nvidia_gpu_fanspeed_percent-mean          0 non-null      float64       \n",
      " 50  nvidia_gpu_fanspeed_percent-max           0 non-null      float64       \n",
      " 51  node_filesystem_files_free-sum            43196 non-null  float64       \n",
      " 52  nvidia_gpu_power_usage_milliwatts-min     0 non-null      float64       \n",
      " 53  nvidia_gpu_power_usage_milliwatts-sum     43196 non-null  float64       \n",
      " 54  nvidia_gpu_power_usage_milliwatts-mean    0 non-null      float64       \n",
      " 55  nvidia_gpu_power_usage_milliwatts-max     0 non-null      float64       \n",
      " 56  node_filesystem_size_bytes-sum            43196 non-null  float64       \n",
      " 57  node_disk_writes_completed_total-sum      43196 non-null  float64       \n",
      " 58  nvidia_gpu_duty_cycle-min                 0 non-null      float64       \n",
      " 59  nvidia_gpu_duty_cycle-mean                0 non-null      float64       \n",
      " 60  nvidia_gpu_duty_cycle-max                 0 non-null      float64       \n",
      " 61  node_network_transmit_packets_total-sum   43196 non-null  float64       \n",
      " 62  node_udp_queues-sum                       43196 non-null  float64       \n",
      " 63  node_network_receive_bytes_total-sum      43196 non-null  float64       \n",
      " 64  node_network_receive_packets_total-sum    43196 non-null  float64       \n",
      " 65  node_network_receive_multicast_total-sum  43196 non-null  float64       \n",
      " 66  node_disk_io_now-sum                      43196 non-null  float64       \n",
      " 67  node_rapl_package_joules_total-sum        43196 non-null  float64       \n",
      " 68  node_network_receive_drop_total-sum       43196 non-null  float64       \n",
      "dtypes: datetime64[ns](1), float64(66), object(2)\n",
      "memory usage: 23.1+ MB\n"
     ]
    }
   ],
   "source": [
    "data.info()"
   ]
  },
  {
   "cell_type": "code",
   "execution_count": 5,
   "metadata": {},
   "outputs": [
    {
     "data": {
      "text/plain": [
       "Index(['id', 'timestamp', 'node', 'node_time_seconds', 'node_load15',\n",
       "       'surfsara_power_usage', 'up', 'node_netstat_Tcp_OutSegs',\n",
       "       'node_netstat_Tcp_InErrs', 'node_context_switches_total', 'node_load5',\n",
       "       'node_load1', 'node_memory_Active_bytes',\n",
       "       'node_netstat_Tcp_RetransSegs', 'node_netstat_Udp_InErrors',\n",
       "       'node_memory_Dirty_bytes', 'surfsara_ambient_temp',\n",
       "       'node_netstat_Icmp_InMsgs', 'node_netstat_Udp_InDatagrams',\n",
       "       'node_intr_total', 'node_netstat_Tcp_InSegs',\n",
       "       'node_memory_Percpu_bytes', 'node_boot_time_seconds',\n",
       "       'node_netstat_Udp_OutDatagrams', 'node_netstat_Icmp_InErrors',\n",
       "       'node_procs_blocked', 'node_netstat_Icmp_OutMsgs',\n",
       "       'node_memory_MemFree_bytes', 'node_procs_running', 'node_forks_total',\n",
       "       'node_hwmon_temp_celsius-min', 'node_hwmon_temp_celsius-mean',\n",
       "       'node_hwmon_temp_celsius-max', 'node_filesystem_avail_bytes-sum',\n",
       "       'node_filesystem_files-sum', 'node_network_transmit_bytes_total-sum',\n",
       "       'node_filesystem_device_error-sum', 'node_disk_written_bytes_total-sum',\n",
       "       'node_filesystem_free_bytes-sum', 'node_thermal_zone_temp-min',\n",
       "       'node_thermal_zone_temp-mean', 'node_thermal_zone_temp-max',\n",
       "       'node_disk_read_bytes_total-sum', 'nvidia_gpu_memory_used_bytes-sum',\n",
       "       'nvidia_gpu_temperature_celsius-min',\n",
       "       'nvidia_gpu_temperature_celsius-mean',\n",
       "       'nvidia_gpu_temperature_celsius-max', 'node_arp_entries-sum',\n",
       "       'nvidia_gpu_fanspeed_percent-min', 'nvidia_gpu_fanspeed_percent-mean',\n",
       "       'nvidia_gpu_fanspeed_percent-max', 'node_filesystem_files_free-sum',\n",
       "       'nvidia_gpu_power_usage_milliwatts-min',\n",
       "       'nvidia_gpu_power_usage_milliwatts-sum',\n",
       "       'nvidia_gpu_power_usage_milliwatts-mean',\n",
       "       'nvidia_gpu_power_usage_milliwatts-max',\n",
       "       'node_filesystem_size_bytes-sum',\n",
       "       'node_disk_writes_completed_total-sum', 'nvidia_gpu_duty_cycle-min',\n",
       "       'nvidia_gpu_duty_cycle-mean', 'nvidia_gpu_duty_cycle-max',\n",
       "       'node_network_transmit_packets_total-sum', 'node_udp_queues-sum',\n",
       "       'node_network_receive_bytes_total-sum',\n",
       "       'node_network_receive_packets_total-sum',\n",
       "       'node_network_receive_multicast_total-sum', 'node_disk_io_now-sum',\n",
       "       'node_rapl_package_joules_total-sum',\n",
       "       'node_network_receive_drop_total-sum'],\n",
       "      dtype='object')"
      ]
     },
     "execution_count": 5,
     "metadata": {},
     "output_type": "execute_result"
    }
   ],
   "source": [
    "data.columns"
   ]
  },
  {
   "cell_type": "code",
   "execution_count": 6,
   "metadata": {},
   "outputs": [
    {
     "name": "stdout",
     "output_type": "stream",
     "text": [
      "<class 'pandas.core.frame.DataFrame'>\n"
     ]
    }
   ],
   "source": [
    "print(type(data))"
   ]
  },
  {
   "cell_type": "code",
   "execution_count": 7,
   "metadata": {},
   "outputs": [],
   "source": [
    "pd.set_option('display.max_rows',None)\n",
    "pd.set_option('display.max_columns',None)"
   ]
  },
  {
   "cell_type": "code",
   "execution_count": 8,
   "metadata": {},
   "outputs": [],
   "source": [
    "# Assuming 'data' is your numpy array and 'column_names' is your list of column names\n",
    "column_names = ['id', 'timestamp', 'node', 'node_time_seconds', 'node_load15',\n",
    "       'surfsara_power_usage', 'up', 'node_netstat_Tcp_OutSegs',\n",
    "       'node_netstat_Tcp_InErrs', 'node_context_switches_total', 'node_load5',\n",
    "       'node_load1', 'node_memory_Active_bytes',\n",
    "       'node_netstat_Tcp_RetransSegs', 'node_netstat_Udp_InErrors',\n",
    "       'node_memory_Dirty_bytes', 'surfsara_ambient_temp',\n",
    "       'node_netstat_Icmp_InMsgs', 'node_netstat_Udp_InDatagrams',\n",
    "       'node_intr_total', 'node_netstat_Tcp_InSegs',\n",
    "       'node_memory_Percpu_bytes', 'node_boot_time_seconds',\n",
    "       'node_netstat_Udp_OutDatagrams', 'node_netstat_Icmp_InErrors',\n",
    "       'node_procs_blocked', 'node_netstat_Icmp_OutMsgs',\n",
    "       'node_memory_MemFree_bytes', 'node_procs_running', 'node_forks_total',\n",
    "       'node_hwmon_temp_celsius-min', 'node_hwmon_temp_celsius-mean',\n",
    "       'node_hwmon_temp_celsius-max', 'node_filesystem_avail_bytes-sum',\n",
    "       'node_filesystem_files-sum', 'node_network_transmit_bytes_total-sum',\n",
    "       'node_filesystem_device_error-sum', 'node_disk_written_bytes_total-sum',\n",
    "       'node_filesystem_free_bytes-sum', 'node_thermal_zone_temp-min',\n",
    "       'node_thermal_zone_temp-mean', 'node_thermal_zone_temp-max',\n",
    "       'node_disk_read_bytes_total-sum', 'nvidia_gpu_memory_used_bytes-sum',\n",
    "       'nvidia_gpu_temperature_celsius-min',\n",
    "       'nvidia_gpu_temperature_celsius-mean',\n",
    "       'nvidia_gpu_temperature_celsius-max', 'node_arp_entries-sum',\n",
    "       'nvidia_gpu_fanspeed_percent-min', 'nvidia_gpu_fanspeed_percent-mean',\n",
    "       'nvidia_gpu_fanspeed_percent-max', 'node_filesystem_files_free-sum',\n",
    "       'nvidia_gpu_power_usage_milliwatts-min',\n",
    "       'nvidia_gpu_power_usage_milliwatts-sum',\n",
    "       'nvidia_gpu_power_usage_milliwatts-mean',\n",
    "       'nvidia_gpu_power_usage_milliwatts-max',\n",
    "       'node_filesystem_size_bytes-sum',\n",
    "       'node_disk_writes_completed_total-sum', 'nvidia_gpu_duty_cycle-min',\n",
    "       'nvidia_gpu_duty_cycle-mean', 'nvidia_gpu_duty_cycle-max',\n",
    "       'node_network_transmit_packets_total-sum', 'node_udp_queues-sum',\n",
    "       'node_network_receive_bytes_total-sum',\n",
    "       'node_network_receive_packets_total-sum',\n",
    "       'node_network_receive_multicast_total-sum', 'node_disk_io_now-sum',\n",
    "       'node_rapl_package_joules_total-sum',\n",
    "       'node_network_receive_drop_total-sum', 'jobID', 'TIMEOUT', 'COMPLETED',\n",
    "       'CANCELLED', 'FAILED', 'OUT_OF_MEMORY', 'NODE_FAIL', 'jobCount_30s',\n",
    "       'TIMEOUT_30s', 'COMPLETED_30s', 'CANCELLED_30s', 'FAILED_30s',\n",
    "       'OUT_OF_MEMORY_30s', 'NODE_FAIL_30s']  \n",
    "df = pd.DataFrame(data, columns=column_names)"
   ]
  },
  {
   "cell_type": "code",
   "execution_count": 9,
   "metadata": {},
   "outputs": [],
   "source": [
    "x = df['node_load1']\n",
    "y = df['surfsara_power_usage']"
   ]
  },
  {
   "cell_type": "code",
   "execution_count": 10,
   "metadata": {},
   "outputs": [],
   "source": [
    "idlePower = y.min()\n",
    "maxPower = y.max()\n",
    "factor = (maxPower - idlePower)/100\n",
    "xMax = x.max()"
   ]
  },
  {
   "cell_type": "code",
   "execution_count": 13,
   "metadata": {},
   "outputs": [
    {
     "name": "stdout",
     "output_type": "stream",
     "text": [
      "Baseline RMSE: 100.388\n"
     ]
    },
    {
     "data": {
      "image/png": "[encoded data removed]",
      "text/plain": [
       "<Figure size 1400x500 with 1 Axes>"
      ]
     },
     "metadata": {},
     "output_type": "display_data"
    }
   ],
   "source": [
    "### Linear \n",
    "# Compute baseline_predictions\n",
    "from sklearn.metrics import mean_squared_error\n",
    "import math\n",
    "import numpy as np\n",
    "\n",
    "def compute_baseline(x, idlePower, factor, xMax):\n",
    "    return idlePower if x == 0 else idlePower + factor * (x/xMax) * 100\n",
    "\n",
    "baseline_predictions = x.apply(lambda value: compute_baseline(value, idlePower, factor, xMax))\n",
    "\n",
    "\n",
    "# Now calculate the RMSE\n",
    "baseline_mse = mean_squared_error(y[:100], baseline_predictions[:100])\n",
    "baseline_rmse = math.sqrt(baseline_mse)\n",
    "print('Baseline RMSE: %.3f' % baseline_rmse)\n",
    "\n",
    "\n",
    "# Plot actual vs. baseline\n",
    "plt.figure(figsize=(14,5))\n",
    "plt.plot(y[:100], color = 'red', label = 'Real')\n",
    "plt.plot(baseline_predictions[:100], color = 'green', label = 'Baseline Estimated')\n",
    "plt.xlabel('Time')\n",
    "plt.ylabel('Value')\n",
    "plt.legend()\n",
    "plt.show()\n"
   ]
  }
 ],
 "metadata": {
  "kernelspec": {
   "display_name": "base",
   "language": "python",
   "name": "python3"
  },
  "language_info": {
   "codemirror_mode": {
    "name": "ipython",
    "version": 3
   },
   "file_extension": ".py",
   "mimetype": "text/x-python",
   "name": "python",
   "nbconvert_exporter": "python",
   "pygments_lexer": "ipython3",
   "version": "3.10.9"
  },
  "orig_nbformat": 4
 },
 "nbformat": 4,
 "nbformat_minor": 2
}
